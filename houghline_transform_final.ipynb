{
 "cells": [
  {
   "cell_type": "code",
   "execution_count": 1,
   "id": "eab5cf3d-7ccd-44ef-b8e9-219290f24b8f",
   "metadata": {},
   "outputs": [
    {
     "name": "stdout",
     "output_type": "stream",
     "text": [
      "50\n",
      "100\n"
     ]
    }
   ],
   "source": [
    "import cv2\n",
    "import numpy as np\n",
    "image = cv2.imread('test4.jpg')\n",
    "\n",
    "gray_image = cv2.cvtColor(image, cv2.COLOR_BGR2GRAY)\n",
    "lower_threshold = 50\n",
    "higher_threshold = 100\n",
    "\n",
    "while True:\n",
    "    edges = cv2.Canny(gray_image, lower_threshold, higher_threshold)\n",
    "    cv2.imshow(\"Canny Edges\", edges)\n",
    "    key = cv2.waitKey(0)\n",
    "    \n",
    "    if key == ord('q'):\n",
    "        break\n",
    "    elif key == ord('u'):  \n",
    "        lower_threshold += 10\n",
    "    elif key == ord('d'):  \n",
    "        lower_threshold -= 10\n",
    "    elif key == ord('i'):  \n",
    "        higher_threshold += 10\n",
    "    elif key == ord('o'):  \n",
    "        higher_threshold -= 10\n",
    "print(lower_threshold)\n",
    "print(higher_threshold)\n",
    "cv2.destroyAllWindows()"
   ]
  },
  {
   "cell_type": "code",
   "execution_count": 7,
   "id": "ee4a62b3-3d1f-4bf3-a589-a87f03c0d304",
   "metadata": {},
   "outputs": [],
   "source": [
    "import cv2\n",
    "import numpy as np\n",
    "image = cv2.imread('test4.jpg')\n",
    "\n",
    "gray_image = cv2.cvtColor(image, cv2.COLOR_BGR2GRAY)\n",
    "edges = cv2.Canny(gray_image, 340, 100)\n",
    "\n",
    "lines = cv2.HoughLinesP(edges, 1, np.pi/180, threshold=50, minLineLength=100, maxLineGap=15)\n",
    "\n",
    "gray_lines_image = cv2.cvtColor(gray_image, cv2.COLOR_GRAY2BGR)\n",
    "if lines is not None:\n",
    "    for line in lines:\n",
    "        x1, y1, x2, y2 = line[0]\n",
    "        cv2.line(gray_lines_image, (x1, y1), (x2, y2), (0, 0, 255), 2)\n",
    "\n",
    "# Step 5: Display the result\n",
    "cv2.imshow(\"HoughLinesP Result\", gray_lines_image)\n",
    "cv2.waitKey(0)\n",
    "cv2.destroyAllWindows()\n"
   ]
  },
  {
   "cell_type": "code",
   "execution_count": 3,
   "id": "77a0922f-a279-4063-b7e5-934eb14ff46d",
   "metadata": {},
   "outputs": [],
   "source": [
    "# overall: using houghline_transform attetend on thresholding (lower_threshholding and higher_thresholding) so that it can mapping on gray_scale to fit with the houghline transform method "
   ]
  }
 ],
 "metadata": {
  "kernelspec": {
   "display_name": "Python 3 (ipykernel)",
   "language": "python",
   "name": "python3"
  },
  "language_info": {
   "codemirror_mode": {
    "name": "ipython",
    "version": 3
   },
   "file_extension": ".py",
   "mimetype": "text/x-python",
   "name": "python",
   "nbconvert_exporter": "python",
   "pygments_lexer": "ipython3",
   "version": "3.11.4"
  }
 },
 "nbformat": 4,
 "nbformat_minor": 5
}
